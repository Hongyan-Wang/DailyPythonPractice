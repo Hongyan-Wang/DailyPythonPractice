{
  "nbformat": 4,
  "nbformat_minor": 0,
  "metadata": {
    "colab": {
      "provenance": [],
      "authorship_tag": "ABX9TyM6xGZObY/ZlM/2fUaxhQ98"
    },
    "kernelspec": {
      "name": "python3",
      "display_name": "Python 3"
    },
    "language_info": {
      "name": "python"
    }
  },
  "cells": [
    {
      "cell_type": "markdown",
      "source": [
        "You are given a string representing a sequence of N arrows, each pointing in one of the four cardinal directions: up (^), down ('v'), left ('<') or right ('\">').\n",
        "Write a function solution that, given a string S denoting the directions of the arrows, returns the minimum number of arrows that must be rotated to make them all point in the same direction.\n",
        "Examples:\n",
        "1. Given S = \"^vv<v\", the function should return 2. After rotating both the first (\"^\") and fourth ('<') arrows downwards ('v'), all of the arrows would point down.\n",
        "2. Given S = \"v>>>vv\", the function should return 3. After rotating the first, fifth and sixth arrow rightwards, all of the arrows would point right.\n",
        "3. Given S = \"<<<\" the function should return 0. All of the arrows already point left.\n",
        "\n",
        "Assume that:\n",
        "\n",
        "1. N is an integer within the range [1..100];\n",
        "2. string S is made only of the following characters: \"^\", \"v\", \"<\" and/or \">\".\n",
        "\n",
        "In your solution, focus on correctness. The performance of your solution will not be the focus of the assessment."
      ],
      "metadata": {
        "id": "RgGf7hKrt1U0"
      }
    },
    {
      "cell_type": "code",
      "source": [
        "def solution(S):\n",
        "  arrow_dict = {\n",
        "      \"^\": 0,\n",
        "      \"v\": 0,\n",
        "      \"<\": 0,\n",
        "      \">\": 0\n",
        "  }\n",
        "  input_list = list(S)\n",
        "  max_arrow_count = 0\n",
        "  for i in input_list:\n",
        "    arrow_dict[i] += 1\n",
        "    if arrow_dict[i] >= max_arrow_count:\n",
        "      max_arrow_count = arrow_dict[i]\n",
        "    else:\n",
        "      max_arrow_count = max_arrow_count\n",
        "  mini_arrow_rotation = len(S) - max_arrow_count\n",
        "  return mini_arrow_rotation"
      ],
      "metadata": {
        "id": "zVbFGWmwtvNj"
      },
      "execution_count": 7,
      "outputs": []
    },
    {
      "cell_type": "code",
      "source": [
        "S1 = \"^vv<v\"\n",
        "S2 = \"v>>>vv\"\n",
        "S3 = \"<<<\""
      ],
      "metadata": {
        "id": "_GgC9TbTuGma"
      },
      "execution_count": 8,
      "outputs": []
    },
    {
      "cell_type": "code",
      "source": [
        "print(solution(S1))\n",
        "print(solution(S2))\n",
        "print(solution(S3))"
      ],
      "metadata": {
        "colab": {
          "base_uri": "https://localhost:8080/"
        },
        "id": "Yd8AcveDvpdC",
        "outputId": "80a4f21b-1359-4522-da8f-9f74f74fc41d"
      },
      "execution_count": 9,
      "outputs": [
        {
          "output_type": "stream",
          "name": "stdout",
          "text": [
            "2\n",
            "3\n",
            "0\n"
          ]
        }
      ]
    },
    {
      "cell_type": "code",
      "source": [],
      "metadata": {
        "id": "ETVeU7-Gvtau"
      },
      "execution_count": null,
      "outputs": []
    }
  ]
}