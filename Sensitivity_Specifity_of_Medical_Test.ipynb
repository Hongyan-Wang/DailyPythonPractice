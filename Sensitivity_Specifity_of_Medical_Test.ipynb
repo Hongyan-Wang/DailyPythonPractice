{
  "nbformat": 4,
  "nbformat_minor": 0,
  "metadata": {
    "colab": {
      "provenance": [],
      "authorship_tag": "ABX9TyMH9y0hn0/klr3lLmt3HegX",
      "include_colab_link": true
    },
    "kernelspec": {
      "name": "python3",
      "display_name": "Python 3"
    },
    "language_info": {
      "name": "python"
    }
  },
  "cells": [
    {
      "cell_type": "markdown",
      "metadata": {
        "id": "view-in-github",
        "colab_type": "text"
      },
      "source": [
        "<a href=\"https://colab.research.google.com/github/Hongyan-Wang/DailyPythonPractice/blob/main/Sensitivity_Specifity_of_Medical_Test.ipynb\" target=\"_parent\"><img src=\"https://colab.research.google.com/assets/colab-badge.svg\" alt=\"Open In Colab\"/></a>"
      ]
    },
    {
      "cell_type": "markdown",
      "source": [
        "\n",
        "\n",
        "A newly created medical test, the purpose of which is to diagnose a rare disease, has been tested on a group of N patients. For each patient, the test may be either positive or negative, but the result might not always be correct (e.g. a person with a positive test result may in fact not be ill). Having information about the real state of health of each patient and the result of the new test, we want to calculate its quality; that is, its sensitivity and specificity.\n",
        "\n",
        "Write a function:\n",
        "\n",
        "def solution (A, B, q) that, given two arrays of binary values A and B, both of length N, representing the real state of patients and the test results, where 0 corresponds to negative result and 1 to positive one, returns either sensitivity of the test (when q is False) or specificity of the test (when q is True).\n",
        "\n",
        "Example test cases:\n",
        "* A = [1, 0, 1, 1, 0, 1], B = [0, 1, 1, 0, 0, 1], q= False: expected answer 0.5\n",
        "\n",
        "* A = [1, 0, 1, 1, 0, 1], B = [0, 1, 1, 0, 0, 1], q= True: expected answer 0.5\n",
        "\n",
        "* A = [1, 0, 0, 1, 0, 1, 1, 0], B = [1, 1, 0, 1, 1, 1, 0, 1], q= False: expected answer 0.75\n",
        "\n",
        "* A = [1, 0, 0, 1, 0, 1, 1, 0], B = [1, 1, 0, 1, 1, 1, 0, 1], q= True: expected answer 0.25\n",
        "\n",
        "\n",
        "Your function's answers will be accepted if they differ from the correct answer by at most 0.00001.\n",
        "\n",
        "Please note that only standard Python libraries can be used. It means that f.e. NumPy and pandas libraries are not available in this task.\n",
        "\n",
        "Assume that:\n",
        "\n",
        "* N is an integer within the range [2..100,000];\n",
        "* each element of arrays A and B is an integer within the range [0..1];\n",
        "* an array A consists of at least one 0 and at least one 1.\n",
        "\n",
        "In your solution, focus on correctness. The performance of your solution will not be the focus of the assessment."
      ],
      "metadata": {
        "id": "8fj7hg9s7X-l"
      }
    },
    {
      "cell_type": "code",
      "source": [
        "def solution(A, B, q):\n",
        "    # Initialize the counters for TP, FP, TN, FN\n",
        "    TP, FP, TN, FN = 0, 0, 0, 0\n",
        "\n",
        "    # Iterate through A and B to calculate the values for TP, FP, TN, FN\n",
        "    for a, b in zip(A, B):\n",
        "        if a == 1 and b == 1:\n",
        "            TP += 1\n",
        "        elif a == 0 and b == 0:\n",
        "            TN += 1\n",
        "        elif a == 1 and b == 0:\n",
        "            FN += 1\n",
        "        else:\n",
        "            FP += 1\n",
        "\n",
        "    # Calculate sensitivity and specificity based on the values of TP, FP, TN, FN\n",
        "    sensitivity = TP / (TP + FN)\n",
        "    specificity = TN / (TN + FP)\n",
        "\n",
        "    # Return the appropriate value based on the value of q\n",
        "    if q:\n",
        "        return specificity\n",
        "    else:\n",
        "        return sensitivity\n"
      ],
      "metadata": {
        "id": "dzo57lL97rXg"
      },
      "execution_count": 1,
      "outputs": []
    },
    {
      "cell_type": "code",
      "source": [
        "# Test cases\n",
        "print(solution([1, 0, 1, 1, 0, 1], [0, 1, 1, 0, 0, 1], False))  # Expected output: 0.5\n",
        "print(solution([1, 0, 1, 1, 0, 1], [0, 1, 1, 0, 0, 1], True))  # Expected output: 0.5\n",
        "print(solution([1, 0, 0, 1, 0, 1, 1, 0], [1, 1, 0, 1, 1, 1, 0, 1], False))  # Expected output: 0.75\n",
        "print(solution([1, 0, 0, 1, 0, 1, 1, 0], [1, 1, 0, 1, 1, 1, 0, 1], True))  # Expected output: 0.25\n"
      ],
      "metadata": {
        "colab": {
          "base_uri": "https://localhost:8080/"
        },
        "id": "dHOFSJ4i8Sj3",
        "outputId": "f6550d1d-25b5-488d-c332-973d0557fe61"
      },
      "execution_count": 2,
      "outputs": [
        {
          "output_type": "stream",
          "name": "stdout",
          "text": [
            "0.5\n",
            "0.5\n",
            "0.75\n",
            "0.25\n"
          ]
        }
      ]
    },
    {
      "cell_type": "code",
      "source": [],
      "metadata": {
        "id": "QUm7-OSH8TLP"
      },
      "execution_count": null,
      "outputs": []
    }
  ]
}